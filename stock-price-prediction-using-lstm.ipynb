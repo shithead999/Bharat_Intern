{
 "cells": [
  {
   "cell_type": "markdown",
   "id": "09bd6619",
   "metadata": {
    "papermill": {
     "duration": 0.007225,
     "end_time": "2023-07-20T20:25:30.401972",
     "exception": false,
     "start_time": "2023-07-20T20:25:30.394747",
     "status": "completed"
    },
    "tags": []
   },
   "source": [
    "# Predicting Stock Prices"
   ]
  },
  {
   "cell_type": "markdown",
   "id": "dcfe7e0e",
   "metadata": {},
   "source": [
    "## Bharat Intern Task \n",
    "## -Sakshi Jain\n",
    "## Task: Stock Price Prediction\n"
   ]
  },
  {
   "cell_type": "markdown",
   "id": "a8672102",
   "metadata": {},
   "source": [
    "Link to Datasets: https://www.kaggle.com/code/sakshijain27/stock-price-prediction-using-lstm/input"
   ]
  },
  {
   "cell_type": "markdown",
   "id": "53ec9a5b",
   "metadata": {
    "papermill": {
     "duration": 0.006218,
     "end_time": "2023-07-20T20:25:30.414675",
     "exception": false,
     "start_time": "2023-07-20T20:25:30.408457",
     "status": "completed"
    },
    "tags": []
   },
   "source": [
    "# Import libraries"
   ]
  },
  {
   "cell_type": "markdown",
   "id": "8b8c0a21",
   "metadata": {},
   "source": [
    "- The script imports the required libraries for the task, including NumPy, Pandas, Matplotlib, pandas_datareader, datetime, and TensorFlow.\n",
    "- It sets up the necessary tools for data retrieval, such as the web data reader for fetching stock market data.\n",
    "- The data preprocessing steps involve scaling the data using MinMaxScaler from scikit-learn, which transforms the data into a specific range (usually between 0 and 1).\n",
    "- The LSTM neural network is implemented using Keras from TensorFlow, which is a popular deep learning library.\n",
    "- The neural network architecture consists of a Sequential model, where layers can be added in a linear manner.\n",
    "- The LSTM layer is used for its ability to capture long-term dependencies in sequential data like stock prices.\n",
    "- Dropout layers are included to prevent overfitting, as they randomly deactivate some neurons during training.\n",
    "- The model is configured with Dense layers for the output and hidden layers.\n",
    "- ModelCheckpoint and EarlyStopping callbacks are used to save the best model during training and stop early if the validation loss stops improving, respectively."
   ]
  },
  {
   "cell_type": "code",
   "execution_count": 1,
   "id": "41b027b9",
   "metadata": {
    "execution": {
     "iopub.execute_input": "2023-07-20T20:25:30.429613Z",
     "iopub.status.busy": "2023-07-20T20:25:30.429263Z",
     "iopub.status.idle": "2023-07-20T20:25:40.006187Z",
     "shell.execute_reply": "2023-07-20T20:25:40.005324Z"
    },
    "papermill": {
     "duration": 9.587704,
     "end_time": "2023-07-20T20:25:40.008895",
     "exception": false,
     "start_time": "2023-07-20T20:25:30.421191",
     "status": "completed"
    },
    "tags": []
   },
   "outputs": [],
   "source": [
    "import numpy as np\n",
    "import pandas as pd\n",
    "\n",
    "import os\n",
    "import matplotlib.pyplot as plt\n",
    "import pandas_datareader as web\n",
    "import datetime as dt\n",
    "\n",
    "from sklearn.preprocessing import MinMaxScaler\n",
    "from tensorflow import keras\n",
    "from tensorflow.keras.models import Sequential\n",
    "from tensorflow.keras.layers import Dense, Dropout, LSTM\n",
    "from tensorflow.keras.callbacks import ModelCheckpoint, EarlyStopping"
   ]
  },
  {
   "cell_type": "markdown",
   "id": "69f620c7",
   "metadata": {
    "papermill": {
     "duration": 0.006684,
     "end_time": "2023-07-20T20:25:40.022776",
     "exception": false,
     "start_time": "2023-07-20T20:25:40.016092",
     "status": "completed"
    },
    "tags": []
   },
   "source": [
    "# Preprocessing"
   ]
  },
  {
   "cell_type": "markdown",
   "id": "1f6e8abe",
   "metadata": {},
   "source": [
    "The code loads a CSV file named \"preprocessed_CAC40.csv\" into a Pandas DataFrame.\n",
    "The dataset likely contains information related to the CAC 40, which is a stock market index representing the 40 largest publicly traded companies in France.\n",
    "The 'parse_dates' parameter is used to ensure that the 'Date' column is treated as datetime objects, allowing for time-series analysis."
   ]
  },
  {
   "cell_type": "code",
   "execution_count": 2,
   "id": "6815ca03",
   "metadata": {
    "execution": {
     "iopub.execute_input": "2023-07-20T20:25:40.038577Z",
     "iopub.status.busy": "2023-07-20T20:25:40.037749Z",
     "iopub.status.idle": "2023-07-20T20:25:40.301729Z",
     "shell.execute_reply": "2023-07-20T20:25:40.300554Z"
    },
    "papermill": {
     "duration": 0.275167,
     "end_time": "2023-07-20T20:25:40.304643",
     "exception": false,
     "start_time": "2023-07-20T20:25:40.029476",
     "status": "completed"
    },
    "tags": []
   },
   "outputs": [],
   "source": [
    "# Load csv\n",
    "df = pd.read_csv('../input/cac40-stocks-dataset/preprocessed_CAC40.csv', parse_dates=['Date'])"
   ]
  },
  {
   "cell_type": "markdown",
   "id": "a698f28d",
   "metadata": {},
   "source": [
    "The function is named `load_data` and is designed to load stock market data for a specified company within a given date range.\n",
    "- The function starts by creating a copy of the original DataFrame `df` (presumably containing data related to the CAC 40 stocks) to work with, ensuring that the original DataFrame remains unchanged.\n",
    "- It filters the data to extract rows that match the specified `company` using the 'Name' column.\n",
    "- The data is further filtered to include only rows that fall within the specified date range, using the 'Date' column.\n",
    "- The 'Closing_Price' column is renamed as 'Close' for clarity.\n",
    "- The resulting filtered data for the specified company and date range is returned as a new DataFrame."
   ]
  },
  {
   "cell_type": "code",
   "execution_count": 3,
   "id": "f9ea5aa0",
   "metadata": {
    "execution": {
     "iopub.execute_input": "2023-07-20T20:25:40.320656Z",
     "iopub.status.busy": "2023-07-20T20:25:40.319878Z",
     "iopub.status.idle": "2023-07-20T20:25:40.328593Z",
     "shell.execute_reply": "2023-07-20T20:25:40.327541Z"
    },
    "papermill": {
     "duration": 0.019398,
     "end_time": "2023-07-20T20:25:40.331183",
     "exception": false,
     "start_time": "2023-07-20T20:25:40.311785",
     "status": "completed"
    },
    "tags": []
   },
   "outputs": [],
   "source": [
    "def load_data(company,start,end):\n",
    "    \"\"\"\"\n",
    "    Load data for the specified company an data range.\n",
    "    :param company:The company's stock symbol(str)\n",
    "    :param start:The starting date for the data range(string or datetime)\n",
    "    :param end: The ending date for the data range (str or datetime)\n",
    "    :return:  A dataframe containig the relevant  stock data (pandas.DataFrame)\n",
    "    \"\"\"\n",
    "    dataframe=df.copy()\n",
    "    dataframe=dataframe.loc[dataframe.Name== company, :]\n",
    "    dataframe=dataframe.loc[(dataframe['Date']>start)&(dataframe['Date']<end),:]\n",
    "    dataframe=dataframe.rename(columns={'Closing_Price':'Close'})\n",
    "    return dataframe"
   ]
  },
  {
   "cell_type": "code",
   "execution_count": 4,
   "id": "02e81c4e",
   "metadata": {
    "execution": {
     "iopub.execute_input": "2023-07-20T20:25:40.346452Z",
     "iopub.status.busy": "2023-07-20T20:25:40.346052Z",
     "iopub.status.idle": "2023-07-20T20:25:40.351899Z",
     "shell.execute_reply": "2023-07-20T20:25:40.351158Z"
    },
    "papermill": {
     "duration": 0.015849,
     "end_time": "2023-07-20T20:25:40.353987",
     "exception": false,
     "start_time": "2023-07-20T20:25:40.338138",
     "status": "completed"
    },
    "tags": []
   },
   "outputs": [],
   "source": [
    "COMPANY='Accor'\n",
    "START_DATE=dt.datetime(2015,1,1)\n",
    "END_DATE=dt.datetime(2020,1,1)\n",
    "\n",
    "START_DATE_TEST=END_DATE"
   ]
  },
  {
   "cell_type": "code",
   "execution_count": 5,
   "id": "02f664e5",
   "metadata": {
    "execution": {
     "iopub.execute_input": "2023-07-20T20:25:40.369418Z",
     "iopub.status.busy": "2023-07-20T20:25:40.368586Z",
     "iopub.status.idle": "2023-07-20T20:25:40.415728Z",
     "shell.execute_reply": "2023-07-20T20:25:40.414526Z"
    },
    "papermill": {
     "duration": 0.057911,
     "end_time": "2023-07-20T20:25:40.418690",
     "exception": false,
     "start_time": "2023-07-20T20:25:40.360779",
     "status": "completed"
    },
    "tags": []
   },
   "outputs": [],
   "source": [
    "data=load_data(company=COMPANY,\n",
    "              start=START_DATE,\n",
    "              end=END_DATE)"
   ]
  },
  {
   "cell_type": "markdown",
   "id": "22db1e9f",
   "metadata": {},
   "source": [
    "The code involves data normalization using the MinMaxScaler.\n",
    "- The MinMaxScaler is initialized with the feature range set between 0 and 1, which ensures that the scaled data will be within this range.\n",
    "- The data to be normalized is extracted from the 'Close' column of the DataFrame 'data'.\n",
    "- The 'Close' column is selected and reshaped into a 2D array with a single column using `values.reshape(-1,1)`. This is required by the MinMaxScaler, which expects a 2D array as input.\n",
    "- The scaler is then applied to the data using `scaler.fit_transform()`.\n",
    "- The `fit_transform()` method computes the minimum and maximum values in the 'Close' column and scales the data accordingly.\n",
    "- The scaled data is stored in the variable `scaled_data`, which is now a NumPy array.\n",
    " This scaled data is ready to be used for training machine learning models, such as the LSTM model mentioned earlier."
   ]
  },
  {
   "cell_type": "code",
   "execution_count": 6,
   "id": "56998981",
   "metadata": {
    "execution": {
     "iopub.execute_input": "2023-07-20T20:25:40.434368Z",
     "iopub.status.busy": "2023-07-20T20:25:40.433955Z",
     "iopub.status.idle": "2023-07-20T20:25:40.441835Z",
     "shell.execute_reply": "2023-07-20T20:25:40.441058Z"
    },
    "papermill": {
     "duration": 0.018547,
     "end_time": "2023-07-20T20:25:40.444060",
     "exception": false,
     "start_time": "2023-07-20T20:25:40.425513",
     "status": "completed"
    },
    "tags": []
   },
   "outputs": [],
   "source": [
    "#Normalize data\n",
    "scaler=MinMaxScaler(feature_range=(0,1))\n",
    "scaled_data=scaler.fit_transform(data['Close'].values.reshape(-1,1))"
   ]
  },
  {
   "cell_type": "markdown",
   "id": "f1e81d4a",
   "metadata": {},
   "source": [
    "- The code sets the variable `prediction_days` to 60. This variable represents the number of days to be used for predicting future stock prices.\n",
    "- Two empty lists, `x_train` and `y_train`, are initialized to store the training data input and output, respectively. These lists will be populated with data for training the LSTM model.\n",
    "- The code iterates through the `scaled_data`, starting from the index equal to the `prediction_days`. This is done to create sequences of data that will be used for training the LSTM model.\n",
    "- For each iteration, the previous `prediction_days` values are appended to `x_train`. This forms the input data for the LSTM model, where each input sequence contains historical stock prices.\n",
    "- The current value (corresponding to the next day's stock price) is appended to `y_train`, which represents the corresponding output or the target value for the LSTM model.\n",
    "- After the loop, `x_train` and `y_train` are converted into NumPy arrays using `np.array()` for further processing and compatibility with the LSTM model.\n",
    "- The `x_train` array is then reshaped to a 3D array with the appropriate dimensions required for the LSTM model. The new shape will be `(number_of_samples, prediction_days, 1)`, where `number_of_samples` is the total number of training samples.\n",
    "\n",
    "This block of code prepares the data in the format required for training an LSTM model for stock price prediction. The `x_train` will contain sequences of historical stock prices, while `y_train` will contain the corresponding target values (next day's stock prices)."
   ]
  },
  {
   "cell_type": "code",
   "execution_count": 7,
   "id": "3392d09c",
   "metadata": {
    "execution": {
     "iopub.execute_input": "2023-07-20T20:25:40.460377Z",
     "iopub.status.busy": "2023-07-20T20:25:40.460001Z",
     "iopub.status.idle": "2023-07-20T20:25:40.470034Z",
     "shell.execute_reply": "2023-07-20T20:25:40.468983Z"
    },
    "papermill": {
     "duration": 0.021328,
     "end_time": "2023-07-20T20:25:40.472125",
     "exception": false,
     "start_time": "2023-07-20T20:25:40.450797",
     "status": "completed"
    },
    "tags": []
   },
   "outputs": [],
   "source": [
    "# Set the number of days for prediction\n",
    "prediction_days=60\n",
    "\n",
    "#Intialize empty lists for training data input and output\n",
    "x_train=[]\n",
    "y_train=[]\n",
    "\n",
    "#Iterate tthrough the scaled data, starting ffrom the prediction days index\n",
    "for x in range(prediction_days,len(scaled_data)):\n",
    "    #Append the previous prediction days values to x_train\n",
    "    x_train.append(scaled_data[x-prediction_days:x,0])\n",
    "    #Append the current value to y_train\n",
    "    y_train.append(scaled_data[x,0])\n",
    "    \n",
    "#Convert the x_train and y_train lists to numpy arrays \n",
    "x_train, y_train=np.array(x_train),np.array(y_train)\n",
    "\n",
    "#reshape x_train to a D array with the appropriate dimensions for the LSTM Model\n",
    "x_train=np.reshape(x_train,(x_train.shape[0],x_train.shape[1],1))"
   ]
  },
  {
   "cell_type": "markdown",
   "id": "0512fc87",
   "metadata": {
    "papermill": {
     "duration": 0.006305,
     "end_time": "2023-07-20T20:25:40.485221",
     "exception": false,
     "start_time": "2023-07-20T20:25:40.478916",
     "status": "completed"
    },
    "tags": []
   },
   "source": [
    "# LSTM MODEL\n"
   ]
  },
  {
   "cell_type": "markdown",
   "id": "19b23831",
   "metadata": {},
   "source": [
    " The LSTM model is designed for stock price prediction.\n",
    "- It consists of three LSTM layers, each with 50 units, enabling the model to capture long-term dependencies in the data.\n",
    "- Dropout layers with a rate of 0.2 are included after each LSTM layer to prevent overfitting and enhance generalization.\n",
    "- The output layer is a dense layer with one unit, which produces the predicted stock price as the output.\n",
    "- The model is configured to take input sequences of historical stock prices, with the number of time steps determined by the `x_train.shape[1]`.\n",
    "- This LSTM model is suitable for forecasting future stock prices based on past trends and patterns in the stock market data."
   ]
  },
  {
   "cell_type": "code",
   "execution_count": 8,
   "id": "58e9b449",
   "metadata": {
    "execution": {
     "iopub.execute_input": "2023-07-20T20:25:40.500613Z",
     "iopub.status.busy": "2023-07-20T20:25:40.500229Z",
     "iopub.status.idle": "2023-07-20T20:25:40.507821Z",
     "shell.execute_reply": "2023-07-20T20:25:40.506754Z"
    },
    "papermill": {
     "duration": 0.017928,
     "end_time": "2023-07-20T20:25:40.510137",
     "exception": false,
     "start_time": "2023-07-20T20:25:40.492209",
     "status": "completed"
    },
    "tags": []
   },
   "outputs": [],
   "source": [
    "def LSTM_model():\n",
    "    \"\"\"\n",
    "    Create and configure an LSTM model for stock price prediction.\n",
    "\n",
    "    :return: The configured LSTM model (keras.Sequential)\n",
    "    \"\"\"\n",
    "\n",
    "    # Initialize a sequential model\n",
    "    model = Sequential()\n",
    "\n",
    "    # Add the first LSTM layer with 50 units, input shape, and return sequences\n",
    "    model.add(LSTM(units=50, return_sequences=True, input_shape=(x_train.shape[1], 1)))\n",
    "    # Add dropout to prevent overfitting\n",
    "    model.add(Dropout(0.2))\n",
    "\n",
    "    # Add a second LSTM layer with 50 units and return sequences\n",
    "    model.add(LSTM(units=50, return_sequences=True))\n",
    "    # Add dropout to prevent overfitting\n",
    "    model.add(Dropout(0.2))\n",
    "\n",
    "    # Add a third LSTM layer with 50 units\n",
    "    model.add(LSTM(units=50))\n",
    "    # Add dropout to prevent overfitting\n",
    "    model.add(Dropout(0.2))\n",
    "\n",
    "    # Add a dense output layer with one unit\n",
    "    model.add(Dense(units=1))\n",
    "\n",
    "    return model"
   ]
  },
  {
   "cell_type": "markdown",
   "id": "23b627aa",
   "metadata": {
    "papermill": {
     "duration": 0.006413,
     "end_time": "2023-07-20T20:25:40.523270",
     "exception": false,
     "start_time": "2023-07-20T20:25:40.516857",
     "status": "completed"
    },
    "tags": []
   },
   "source": [
    "# Training"
   ]
  },
  {
   "cell_type": "markdown",
   "id": "0a221eef",
   "metadata": {},
   "source": [
    " The LSTM model is created using the `LSTM_model()` function.\n",
    "- The `model.summary()` function is called to display a summary of the model architecture, showing the layers, parameters, and output shapes.\n",
    "- The model is compiled using the 'adam' optimizer, which is a popular optimizer for training neural networks based on adaptive learning rates.\n",
    "- The loss function chosen for this model is 'mean_squared_error', which measures the mean squared difference between the predicted and actual stock prices during training.\n",
    "- With the model compiled, it is now ready for training with historical stock price data to learn patterns and make predictions."
   ]
  },
  {
   "cell_type": "code",
   "execution_count": 9,
   "id": "10fc5a8a",
   "metadata": {
    "execution": {
     "iopub.execute_input": "2023-07-20T20:25:40.538304Z",
     "iopub.status.busy": "2023-07-20T20:25:40.537900Z",
     "iopub.status.idle": "2023-07-20T20:25:41.626921Z",
     "shell.execute_reply": "2023-07-20T20:25:41.625784Z"
    },
    "papermill": {
     "duration": 1.099395,
     "end_time": "2023-07-20T20:25:41.629331",
     "exception": false,
     "start_time": "2023-07-20T20:25:40.529936",
     "status": "completed"
    },
    "tags": []
   },
   "outputs": [
    {
     "name": "stdout",
     "output_type": "stream",
     "text": [
      "Model: \"sequential\"\n",
      "_________________________________________________________________\n",
      " Layer (type)                Output Shape              Param #   \n",
      "=================================================================\n",
      " lstm (LSTM)                 (None, 60, 50)            10400     \n",
      "                                                                 \n",
      " dropout (Dropout)           (None, 60, 50)            0         \n",
      "                                                                 \n",
      " lstm_1 (LSTM)               (None, 60, 50)            20200     \n",
      "                                                                 \n",
      " dropout_1 (Dropout)         (None, 60, 50)            0         \n",
      "                                                                 \n",
      " lstm_2 (LSTM)               (None, 50)                20200     \n",
      "                                                                 \n",
      " dropout_2 (Dropout)         (None, 50)                0         \n",
      "                                                                 \n",
      " dense (Dense)               (None, 1)                 51        \n",
      "                                                                 \n",
      "=================================================================\n",
      "Total params: 50,851\n",
      "Trainable params: 50,851\n",
      "Non-trainable params: 0\n",
      "_________________________________________________________________\n"
     ]
    }
   ],
   "source": [
    "model=LSTM_model()\n",
    "model.summary()\n",
    "model.compile(\n",
    "    optimizer='adam',\n",
    "    loss='mean_squared_error'\n",
    ")"
   ]
  },
  {
   "cell_type": "markdown",
   "id": "4a29b5f2",
   "metadata": {},
   "source": [
    " Callbacks are defined to enhance the training process of the LSTM model.\n",
    "- The `ModelCheckpoint` callback is used to save the weights of the model during training.\n",
    "- Weights will be saved to the file named 'weights_best.hdf5'.\n",
    "- The `verbose` parameter is set to 2, providing detailed updates during the training process.\n",
    "- Only the weights for the best model (lowest validation loss) will be saved due to `save_best_only = True`.\n",
    "- The model is then trained using the `model.fit()` function.\n",
    "- Historical stock price data, `x_train`, and corresponding target values, `y_train`, are used for training.\n",
    "- The training process will run for 25 epochs, iterating through the entire dataset 25 times.\n",
    "- A batch size of 32 is used, indicating that the model will update its weights after processing 32 samples.\n",
    "- The `ModelCheckpoint` callback is passed to the `callbacks` parameter to enable weight saving during training.\n",
    "- The model will be trained and improved over the epochs, and the best-performing model's weights will be saved for future use."
   ]
  },
  {
   "cell_type": "code",
   "execution_count": 10,
   "id": "3f2c0785",
   "metadata": {
    "execution": {
     "iopub.execute_input": "2023-07-20T20:25:41.648432Z",
     "iopub.status.busy": "2023-07-20T20:25:41.648029Z",
     "iopub.status.idle": "2023-07-20T20:27:09.076462Z",
     "shell.execute_reply": "2023-07-20T20:27:09.075384Z"
    },
    "papermill": {
     "duration": 87.440984,
     "end_time": "2023-07-20T20:27:09.079225",
     "exception": false,
     "start_time": "2023-07-20T20:25:41.638241",
     "status": "completed"
    },
    "tags": []
   },
   "outputs": [
    {
     "name": "stdout",
     "output_type": "stream",
     "text": [
      "Epoch 1/25\n",
      "38/38 [==============================] - 9s 80ms/step - loss: 0.0385\n",
      "Epoch 2/25\n",
      "38/38 [==============================] - 3s 79ms/step - loss: 0.0108\n",
      "Epoch 3/25\n",
      "38/38 [==============================] - 3s 80ms/step - loss: 0.0103\n",
      "Epoch 4/25\n",
      "38/38 [==============================] - 3s 78ms/step - loss: 0.0095\n",
      "Epoch 5/25\n",
      "38/38 [==============================] - 3s 79ms/step - loss: 0.0084\n",
      "Epoch 6/25\n",
      "38/38 [==============================] - 3s 88ms/step - loss: 0.0086\n",
      "Epoch 7/25\n",
      "38/38 [==============================] - 3s 79ms/step - loss: 0.0082\n",
      "Epoch 8/25\n",
      "38/38 [==============================] - 3s 79ms/step - loss: 0.0072\n",
      "Epoch 9/25\n",
      "38/38 [==============================] - 3s 79ms/step - loss: 0.0073\n",
      "Epoch 10/25\n",
      "38/38 [==============================] - 3s 79ms/step - loss: 0.0072\n",
      "Epoch 11/25\n",
      "38/38 [==============================] - 3s 78ms/step - loss: 0.0068\n",
      "Epoch 12/25\n",
      "38/38 [==============================] - 3s 77ms/step - loss: 0.0069\n",
      "Epoch 13/25\n",
      "38/38 [==============================] - 3s 79ms/step - loss: 0.0063\n",
      "Epoch 14/25\n",
      "38/38 [==============================] - 3s 79ms/step - loss: 0.0062\n",
      "Epoch 15/25\n",
      "38/38 [==============================] - 3s 78ms/step - loss: 0.0064\n",
      "Epoch 16/25\n",
      "38/38 [==============================] - 3s 78ms/step - loss: 0.0064\n",
      "Epoch 17/25\n",
      "38/38 [==============================] - 3s 82ms/step - loss: 0.0060\n",
      "Epoch 18/25\n",
      "38/38 [==============================] - 3s 78ms/step - loss: 0.0055\n",
      "Epoch 19/25\n",
      "38/38 [==============================] - 3s 80ms/step - loss: 0.0058\n",
      "Epoch 20/25\n",
      "38/38 [==============================] - 3s 80ms/step - loss: 0.0056\n",
      "Epoch 21/25\n",
      "38/38 [==============================] - 3s 77ms/step - loss: 0.0052\n",
      "Epoch 22/25\n",
      "38/38 [==============================] - 3s 78ms/step - loss: 0.0049\n",
      "Epoch 23/25\n",
      "38/38 [==============================] - 3s 79ms/step - loss: 0.0049\n",
      "Epoch 24/25\n",
      "38/38 [==============================] - 3s 77ms/step - loss: 0.0051\n",
      "Epoch 25/25\n",
      "38/38 [==============================] - 3s 78ms/step - loss: 0.0051\n"
     ]
    },
    {
     "data": {
      "text/plain": [
       "<keras.callbacks.History at 0x79cc4ba4c460>"
      ]
     },
     "execution_count": 10,
     "metadata": {},
     "output_type": "execute_result"
    }
   ],
   "source": [
    "# Define callbacks\n",
    "\n",
    "# Save weights only for best model\n",
    "checkpointer = ModelCheckpoint(\n",
    "    filepath = 'weights_best.hdf5', \n",
    "    verbose = 2, \n",
    "    save_best_only = True\n",
    ")\n",
    "\n",
    "model.fit(\n",
    "    x_train, \n",
    "    y_train, \n",
    "    epochs=25, \n",
    "    batch_size = 32,\n",
    "    callbacks = [checkpointer]\n",
    ")"
   ]
  },
  {
   "cell_type": "markdown",
   "id": "2292025e",
   "metadata": {
    "papermill": {
     "duration": 0.092913,
     "end_time": "2023-07-20T20:27:09.267946",
     "exception": false,
     "start_time": "2023-07-20T20:27:09.175033",
     "status": "completed"
    },
    "tags": []
   },
   "source": [
    "# Inference"
   ]
  },
  {
   "cell_type": "code",
   "execution_count": 11,
   "id": "bec321ea",
   "metadata": {
    "execution": {
     "iopub.execute_input": "2023-07-20T20:27:09.458786Z",
     "iopub.status.busy": "2023-07-20T20:27:09.458396Z",
     "iopub.status.idle": "2023-07-20T20:27:09.490221Z",
     "shell.execute_reply": "2023-07-20T20:27:09.489155Z"
    },
    "papermill": {
     "duration": 0.129776,
     "end_time": "2023-07-20T20:27:09.492794",
     "exception": false,
     "start_time": "2023-07-20T20:27:09.363018",
     "status": "completed"
    },
    "tags": []
   },
   "outputs": [],
   "source": [
    "# Load the test data for the specified company and date range\n",
    "test_data=load_data(\n",
    "company=COMPANY,\n",
    "start=START_DATE_TEST,\n",
    "end=dt.datetime.now()\n",
    ")\n",
    "# Extract the actual closing price from the test data\n",
    "actual_price=test_data['Close'].values\n",
    "\n",
    "#Concatenate the training and test data along the 'Close' column\n",
    "total_dataset=pd.concat((data['Close'],test_data['Close']),axis=0)\n",
    "\n",
    "# Extract the relevant portion of the dataset for model inputs\n",
    "model_inputs=total_dataset[len(total_dataset)-len(test_data)-prediction_days:].values\n",
    "\n",
    "#Reshape the model inputs to a 2D array with a single column\n",
    "model_inputs=model_inputs.reshape(-1,1)\n",
    "\n",
    "# Apply the same scaling used for trainig data to model inputs\n",
    "model_inputs=scaler.transform(model_inputs)\n"
   ]
  },
  {
   "cell_type": "code",
   "execution_count": 12,
   "id": "b4a49ff9",
   "metadata": {
    "execution": {
     "iopub.execute_input": "2023-07-20T20:27:09.686495Z",
     "iopub.status.busy": "2023-07-20T20:27:09.686066Z",
     "iopub.status.idle": "2023-07-20T20:27:10.995497Z",
     "shell.execute_reply": "2023-07-20T20:27:10.994343Z"
    },
    "papermill": {
     "duration": 1.408411,
     "end_time": "2023-07-20T20:27:10.997820",
     "exception": false,
     "start_time": "2023-07-20T20:27:09.589409",
     "status": "completed"
    },
    "tags": []
   },
   "outputs": [
    {
     "name": "stdout",
     "output_type": "stream",
     "text": [
      "3/3 [==============================] - 1s 21ms/step\n"
     ]
    }
   ],
   "source": [
    "# Initialize an empty list for test data input\n",
    "x_test = []\n",
    "\n",
    "# Iterate through the model inputs, starting from the prediction_days index\n",
    "for x in range(prediction_days, len(model_inputs)):\n",
    "    # Append the previous 'prediction_days' values to x_test\n",
    "    x_test.append(model_inputs[x-prediction_days:x, 0])\n",
    "\n",
    "# Convert the x_test list to a numpy array\n",
    "x_test = np.array(x_test)\n",
    "\n",
    "# Reshape x_test to a 3D array with the appropriate dimensions for the LSTM model\n",
    "x_test = np.reshape(x_test, (x_test.shape[0], x_test.shape[1], 1))\n",
    "\n",
    "# Generate price predictions using the LSTM model\n",
    "predicted_prices = model.predict(x_test)\n",
    "\n",
    "# Invert the scaling applied to the predicted prices to obtain actual values\n",
    "predicted_prices = scaler.inverse_transform(predicted_prices)"
   ]
  },
  {
   "cell_type": "code",
   "execution_count": 13,
   "id": "6651285c",
   "metadata": {
    "execution": {
     "iopub.execute_input": "2023-07-20T20:27:11.191622Z",
     "iopub.status.busy": "2023-07-20T20:27:11.191210Z",
     "iopub.status.idle": "2023-07-20T20:27:11.558311Z",
     "shell.execute_reply": "2023-07-20T20:27:11.557219Z"
    },
    "papermill": {
     "duration": 0.466906,
     "end_time": "2023-07-20T20:27:11.560775",
     "exception": false,
     "start_time": "2023-07-20T20:27:11.093869",
     "status": "completed"
    },
    "tags": []
   },
   "outputs": [
    {
     "data": {
      "image/png": "[encoded data removed]",
      "text/plain": [
       "<Figure size 640x480 with 1 Axes>"
      ]
     },
     "metadata": {},
     "output_type": "display_data"
    }
   ],
   "source": [
    "# Plot the actual prices using a black line\n",
    "plt.plot(actual_price, color='black', label=f\"Actual {COMPANY} price\")\n",
    "\n",
    "# Plot the predicted prices using a green line\n",
    "plt.plot(predicted_prices, color='green', label=f\"Predicted {COMPANY} price\")\n",
    "\n",
    "# Set the title of the plot using the company name\n",
    "plt.title(f\"{COMPANY} share price\")\n",
    "\n",
    "# Set the x-axis label as 'time'\n",
    "plt.xlabel(\"time\")\n",
    "\n",
    "# Set the y-axis label using the company name\n",
    "plt.ylabel(f\"{COMPANY} share price\")\n",
    "\n",
    "# Display a legend to differentiate the actual and predicted prices\n",
    "plt.legend()\n",
    "\n",
    "# Show the plot on the screen\n",
    "plt.show()"
   ]
  },
  {
   "cell_type": "markdown",
   "id": "101a5bd5",
   "metadata": {},
   "source": [
    "This block of code demonstrates the steps involved in predicting future stock prices using the LSTM model. The LSTM model takes the most recent 'prediction_days' days of data as input and generates a forecast for the next day's stock price. The prediction result is then converted back to its original scale for meaningful interpretation."
   ]
  },
  {
   "cell_type": "code",
   "execution_count": 14,
   "id": "0fe919a8",
   "metadata": {
    "execution": {
     "iopub.execute_input": "2023-07-20T20:27:11.753812Z",
     "iopub.status.busy": "2023-07-20T20:27:11.752710Z",
     "iopub.status.idle": "2023-07-20T20:27:12.954376Z",
     "shell.execute_reply": "2023-07-20T20:27:12.953139Z"
    },
    "papermill": {
     "duration": 1.300304,
     "end_time": "2023-07-20T20:27:12.956913",
     "exception": false,
     "start_time": "2023-07-20T20:27:11.656609",
     "status": "completed"
    },
    "tags": []
   },
   "outputs": [
    {
     "name": "stdout",
     "output_type": "stream",
     "text": [
      "1/1 [==============================] - 1s 1s/step\n",
      "Prediction: 40.734962463378906\n"
     ]
    }
   ],
   "source": [
    "# Extract the last 'prediction_days' values from the model inputs\n",
    "real_data = [model_inputs[len(model_inputs) + 1 - prediction_days:len(model_inputs + 1), 0]]\n",
    "\n",
    "# Convert the real_data list to a numpy array\n",
    "real_data = np.array(real_data)\n",
    "\n",
    "# Reshape real_data to a 3D array with the appropriate dimensions for the LSTM model\n",
    "real_data = np.reshape(real_data, (real_data.shape[0], real_data.shape[1], 1))\n",
    "\n",
    "# Generate a prediction using the LSTM model with the real_data input\n",
    "prediction = model.predict(real_data)\n",
    "\n",
    "# Invert the scaling applied to the prediction to obtain the actual value\n",
    "prediction = scaler.inverse_transform(prediction)\n",
    "\n",
    "# Print the prediction result to the console\n",
    "print(f\"Prediction: {prediction[0][0]}\")"
   ]
  },
  {
   "cell_type": "code",
   "execution_count": null,
   "id": "033a5cd4",
   "metadata": {
    "papermill": {
     "duration": 0.094918,
     "end_time": "2023-07-20T20:27:13.147726",
     "exception": false,
     "start_time": "2023-07-20T20:27:13.052808",
     "status": "completed"
    },
    "tags": []
   },
   "outputs": [],
   "source": []
  }
 ],
 "metadata": {
  "kernelspec": {
   "display_name": "Python 3",
   "language": "python",
   "name": "python3"
  },
  "language_info": {
   "codemirror_mode": {
    "name": "ipython",
    "version": 3
   },
   "file_extension": ".py",
   "mimetype": "text/x-python",
   "name": "python",
   "nbconvert_exporter": "python",
   "pygments_lexer": "ipython3",
   "version": "3.10.6"
  },
  "papermill": {
   "default_parameters": {},
   "duration": 115.438325,
   "end_time": "2023-07-20T20:27:15.268690",
   "environment_variables": {},
   "exception": null,
   "input_path": "__notebook__.ipynb",
   "output_path": "__notebook__.ipynb",
   "parameters": {},
   "start_time": "2023-07-20T20:25:19.830365",
   "version": "2.4.0"
  }
 },
 "nbformat": 4,
 "nbformat_minor": 5
}
